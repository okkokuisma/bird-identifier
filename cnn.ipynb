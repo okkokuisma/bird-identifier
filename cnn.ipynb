{
 "cells": [
  {
   "cell_type": "code",
   "execution_count": 3,
   "id": "ad97fe5a",
   "metadata": {},
   "outputs": [],
   "source": [
    "import torch\n",
    "import torch.nn as nn\n",
    "import torch.nn.functional as F\n",
    "import numpy as np"
   ]
  },
  {
   "cell_type": "code",
   "execution_count": 8,
   "id": "9b11de65",
   "metadata": {},
   "outputs": [],
   "source": [
    "class CNNClassifier(nn.Module):\n",
    "    def __init__(self, num_classes: int):\n",
    "        super(CNNClassifier, self).__init__()\n",
    "\n",
    "        self.conv_block1 = nn.Sequential(\n",
    "            nn.Conv2d(1, 32, kernel_size=3, padding=1),\n",
    "            nn.BatchNorm2d(32),\n",
    "            nn.ReLU(),\n",
    "            nn.MaxPool2d(2)  # reduces both freq and time by 2\n",
    "        )\n",
    "\n",
    "        self.conv_block2 = nn.Sequential(\n",
    "            nn.Conv2d(32, 64, kernel_size=3, padding=1),\n",
    "            nn.BatchNorm2d(64),\n",
    "            nn.ReLU(),\n",
    "            nn.MaxPool2d(2)\n",
    "        )\n",
    "\n",
    "        self.conv_block3 = nn.Sequential(\n",
    "            nn.Conv2d(64, 128, kernel_size=3, padding=1),\n",
    "            nn.BatchNorm2d(128),\n",
    "            nn.ReLU(),\n",
    "            nn.MaxPool2d(2)\n",
    "        )\n",
    "\n",
    "        self.global_pool = nn.AdaptiveAvgPool2d((1, 1))  # output: [batch, 128, 1, 1]\n",
    "\n",
    "        self.classifier = nn.Sequential(\n",
    "            nn.Flatten(),  # [batch, 128]\n",
    "            nn.Linear(128, 64),\n",
    "            nn.ReLU(),\n",
    "            nn.Dropout(0.4),\n",
    "            nn.Linear(64, num_classes)\n",
    "        )\n",
    "\n",
    "    def forward(self, x):\n",
    "        x = self.conv_block1(x)  # [batch, 32, H/2, W/2]\n",
    "        x = self.conv_block2(x)  # [batch, 64, H/4, W/4]\n",
    "        x = self.conv_block3(x)  # [batch, 128, H/8, W/8]\n",
    "        x = self.global_pool(x)  # [batch, 128, 1, 1]\n",
    "        logits = self.classifier(x)  # [batch, num_classes]\n",
    "        return logits"
   ]
  },
  {
   "cell_type": "code",
   "execution_count": null,
   "id": "3b6fff58",
   "metadata": {},
   "outputs": [],
   "source": [
    "num_epochs = 50\n",
    "batch_size = 128\n"
   ]
  },
  {
   "cell_type": "code",
   "execution_count": 15,
   "id": "fdad990f",
   "metadata": {},
   "outputs": [],
   "source": [
    "import librosa\n",
    "\n",
    "array, sr = librosa.load('/Users/okkokuisma/Downloads/XC815854-MIXPRE-013.wav', sr=44100)"
   ]
  },
  {
   "cell_type": "code",
   "execution_count": 11,
   "id": "581acd37",
   "metadata": {},
   "outputs": [],
   "source": [
    "D = librosa.stft(array)\n",
    "db = librosa.amplitude_to_db(np.abs(D))\n",
    "input = torch.tensor(db.reshape((1, 1, 1025, 3811)))"
   ]
  },
  {
   "cell_type": "code",
   "execution_count": 29,
   "id": "941316b1",
   "metadata": {},
   "outputs": [
    {
     "name": "stdout",
     "output_type": "stream",
     "text": [
      "(1025, 1723)\n"
     ]
    }
   ],
   "source": [
    "window_size = 20 * 44100\n",
    "lower = int(array.shape[0] / 2 - window_size / 2)\n",
    "upper = int(array.shape[0] / 2 + window_size / 2)\n",
    "window = np.hanning(window_size)\n",
    "windowed_input = array[lower:upper] * window\n",
    "D = librosa.stft(windowed_input)\n",
    "db = librosa.amplitude_to_db(np.abs(D))\n",
    "print(db.shape)"
   ]
  },
  {
   "cell_type": "code",
   "execution_count": null,
   "id": "d234b438",
   "metadata": {},
   "outputs": [
    {
     "name": "stdout",
     "output_type": "stream",
     "text": [
      "(882000,)\n"
     ]
    }
   ],
   "source": [
    "a = np.arange(300000)\n",
    "d = window_size - a.shape[0]\n",
    "before = int(d / 2)\n",
    "after = d - before\n",
    "print().shape"
   ]
  },
  {
   "cell_type": "code",
   "execution_count": null,
   "id": "078af99c",
   "metadata": {},
   "outputs": [],
   "source": [
    "def pad_or_truncate(array: np.ndarray, window_size):\n",
    "    array_size = array.shape[0]\n",
    "\n",
    "    if array_size < window_size:\n",
    "        d = window_size - array_size\n",
    "        before = int(d / 2)\n",
    "        after = d - before\n",
    "        return np.concat([np.zeros(before), array, np.zeros(after)])\n",
    "    \n",
    "    elif array_size > window_size:\n",
    "        lower = int(array_size / 2 - window_size / 2)\n",
    "        upper = int(array_size / 2 + window_size / 2)\n",
    "        return array[lower:upper]\n",
    "    \n",
    "    return array"
   ]
  },
  {
   "cell_type": "code",
   "execution_count": 13,
   "id": "672814b2",
   "metadata": {},
   "outputs": [
    {
     "name": "stdout",
     "output_type": "stream",
     "text": [
      "tensor([[-0.1790,  0.6011, -0.0431,  0.1033,  0.1780, -0.4846,  0.4245, -0.0985,\n",
      "         -0.0012,  0.1388]], grad_fn=<AddmmBackward0>)\n"
     ]
    }
   ],
   "source": [
    "model = CNNClassifier(10)\n",
    "print(model(input))"
   ]
  }
 ],
 "metadata": {
  "kernelspec": {
   "display_name": "ds_py312",
   "language": "python",
   "name": "python3"
  },
  "language_info": {
   "codemirror_mode": {
    "name": "ipython",
    "version": 3
   },
   "file_extension": ".py",
   "mimetype": "text/x-python",
   "name": "python",
   "nbconvert_exporter": "python",
   "pygments_lexer": "ipython3",
   "version": "3.12.8"
  }
 },
 "nbformat": 4,
 "nbformat_minor": 5
}
