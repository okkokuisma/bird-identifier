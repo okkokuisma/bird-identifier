{
 "cells": [
  {
   "cell_type": "code",
   "execution_count": 2,
   "metadata": {},
   "outputs": [],
   "source": [
    "import numpy as np\n",
    "import pandas as pd\n",
    "import requests\n",
    "from librosa import load\n",
    "from io import BytesIO"
   ]
  },
  {
   "cell_type": "code",
   "execution_count": 3,
   "metadata": {},
   "outputs": [
    {
     "name": "stderr",
     "output_type": "stream",
     "text": [
      "/var/folders/l2/p5w_f2bx6cz7b2p1jb5y5kn00000gn/T/ipykernel_74528/3480027360.py:1: DtypeWarning: Columns (46,208) have mixed types. Specify dtype option on import or set low_memory=False.\n",
      "  d = pd.read_csv('/Volumes/COCO-DATA/0000764-250426092105405/occurrence.txt', sep='\\t', skiprows=[5644])\n"
     ]
    }
   ],
   "source": [
    "d = pd.read_csv('/Volumes/COCO-DATA/0000764-250426092105405/occurrence.txt', sep='\\t', skiprows=[5644])"
   ]
  },
  {
   "cell_type": "code",
   "execution_count": 4,
   "metadata": {},
   "outputs": [
    {
     "name": "stdout",
     "output_type": "stream",
     "text": [
      "                 scientific          finnish                english\n",
      "0               Cygnus olor     kyhmyjoutsen              Mute Swan\n",
      "1        Cygnus columbianus     pikkujoutsen          Bewick's Swan\n",
      "2             Cygnus cygnus     laulujoutsen           Whooper Swan\n",
      "3             Anser fabalis       metsähanhi             Bean Goose\n",
      "4      Anser brachyrhynchus  lyhytnokkahanhi      Pink-footed Goose\n",
      "..                      ...              ...                    ...\n",
      "487    Emberiza schoeniclus       pajusirkku           Reed Bunting\n",
      "488        Emberiza pallasi  pikkupajusirkku  Pallas's Reed Bunting\n",
      "489      Emberiza bruniceps   ruskopääsirkku     Red-headed Bunting\n",
      "490  Emberiza melanocephala   mustapääsirkku   Black-headed Bunting\n",
      "491       Emberiza calandra     harmaasirkku           Corn Bunting\n",
      "\n",
      "[492 rows x 3 columns]\n"
     ]
    }
   ],
   "source": [
    "with open('/Volumes/COCO-DATA/0000764-250426092105405/bird_species.txt') as f:\n",
    "    rows = []\n",
    "    row = []\n",
    "    for l in f:\n",
    "        if not (l.startswith('Lahko') or l.startswith('Heimo') or l.strip() == 'C' or l.strip() == 'B') and l.strip():\n",
    "            row.append(l.strip())\n",
    "            if (len(row) == 5):\n",
    "                rows.append(row)\n",
    "                row = []\n",
    "\n",
    "species = pd.DataFrame(rows, columns=['abb', 'scientific', 'finnish', 'swedish', 'english'])\n",
    "species = species.loc[:, ['scientific', 'finnish', 'english']]\n",
    "print(species)"
   ]
  },
  {
   "cell_type": "code",
   "execution_count": 5,
   "metadata": {},
   "outputs": [
    {
     "name": "stdout",
     "output_type": "stream",
     "text": [
      "        gbifID                 species  decimalLatitude  decimalLongitude\n",
      "3   4173214155     Emberiza citrinella          48.7565           -1.5103\n",
      "6   2243564691       Passer domesticus          49.9137           -6.3015\n",
      "7   4173214157         Sylvia communis          54.1244           -0.5509\n",
      "13  4173214160  Acrocephalus palustris          51.2389           12.3872\n",
      "17  4173214162          Motacilla alba          53.0577           14.3099\n"
     ]
    }
   ],
   "source": [
    "cols = [ 'gbifID', 'species', 'decimalLatitude', 'decimalLongitude' ]\n",
    "d = d.loc[:, cols]\n",
    "occurences = d[d['species'].isin(species['scientific'])]\n",
    "print(occurences.head())"
   ]
  },
  {
   "cell_type": "code",
   "execution_count": 15,
   "metadata": {},
   "outputs": [],
   "source": [
    "multimedia_df = pd.read_csv('/Volumes/COCO-DATA/0000764-250426092105405/multimedia.txt', sep='\\t')"
   ]
  },
  {
   "cell_type": "code",
   "execution_count": 16,
   "metadata": {},
   "outputs": [],
   "source": [
    "multimedia_df = multimedia_df[multimedia_df['gbifID'].isin(occurences['gbifID'])]\n",
    "multimedia_df = multimedia_df[multimedia_df['format'] == 'audio/mpeg']\n",
    "multimedia_df = multimedia_df.reset_index(drop=True)"
   ]
  },
  {
   "cell_type": "code",
   "execution_count": null,
   "metadata": {},
   "outputs": [],
   "source": [
    "test = multimedia_df.loc[:99999, :]\n",
    "for id, url in zip(test['gbifID'].values, test['identifier'].values):\n",
    "    try:\n",
    "        res = requests.get(url)\n",
    "        path = f\"/Volumes/COCO-DATA/songs/{id}\"\n",
    "\n",
    "        if not os.path.isfile('/Volumes/COCO-DATA/songs/2243666539')\n",
    "        with open(path, 'wb+') as f:\n",
    "            f.write(bytes(res.content))\n",
    "    except:\n",
    "        continue"
   ]
  },
  {
   "cell_type": "code",
   "execution_count": 2,
   "metadata": {},
   "outputs": [
    {
     "name": "stdout",
     "output_type": "stream",
     "text": [
      "False\n"
     ]
    }
   ],
   "source": [
    "import os\n",
    "print(os.path.isfile('/Volumes/COCO-DATA/songs/2243666539'))"
   ]
  }
 ],
 "metadata": {
  "kernelspec": {
   "display_name": "ds_py312",
   "language": "python",
   "name": "python3"
  },
  "language_info": {
   "codemirror_mode": {
    "name": "ipython",
    "version": 3
   },
   "file_extension": ".py",
   "mimetype": "text/x-python",
   "name": "python",
   "nbconvert_exporter": "python",
   "pygments_lexer": "ipython3",
   "version": "3.12.8"
  }
 },
 "nbformat": 4,
 "nbformat_minor": 2
}
